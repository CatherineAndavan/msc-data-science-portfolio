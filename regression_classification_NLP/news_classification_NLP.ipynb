{
 "cells": [
  {
   "cell_type": "markdown",
   "id": "99a0ffca",
   "metadata": {},
   "source": [
    "#### Overview of the dataset"
   ]
  },
  {
   "cell_type": "markdown",
   "id": "7e71694b",
   "metadata": {},
   "source": [
    "\n",
    "NLP is Natural Language Processing where the machine is made to understand the natural language and work on it, it could be generating responses to a prompt or identifying spam messages or like in this case, identifying topics of news articles.  \n",
    "\n",
    "The models used in this report for NLP are LDA(Latent Dirichlet allocation) and Agglomerative Hierarchial clustering. \n",
    "\n",
    "There are different ways in which we can feed the words to the machine, but in this report we will be converting the words to an array of vectors where each word will be represented by the number of it's occurance.  \n",
    "\n",
    "- The dataset is a CSV with tab-separated news articles.   \n",
    "- The problem statement is to wrangle the data properly and identify groups to which the articles can be assigned to. That is the topic of the news.   \n",
    "- It is an usupervised machine learning task since there are no target variables.\n"
   ]
  },
  {
   "cell_type": "code",
   "execution_count": null,
   "id": "3ea38f6c",
   "metadata": {},
   "outputs": [],
   "source": [
    "import numpy as np # Library for performing numerical tasks\n",
    "import pandas as pd # Library for dataset wrangling \n",
    "import matplotlib.pyplot as plt # Library for plotting\n",
    "import seaborn as sns # Library for plotting\n",
    "\n",
    "from sklearn.pipeline import Pipeline # To create separate pipelines for ease of execution\n",
    "\n",
    "from sklearn.preprocessing import StandardScaler # For Scaling the data\n",
    "\n",
    "# For Hyperparameter Tuning\n",
    "from sklearn.model_selection import GridSearchCV \n",
    "from sklearn.model_selection import RandomizedSearchCV \n",
    "\n",
    "\n",
    "# For Splitting the data into train/test or train/test/validation sets\n",
    "from sklearn.model_selection import KFold\n",
    "from sklearn.model_selection import train_test_split\n",
    "\n",
    "\n",
    "from sklearn.feature_selection import RFE # For Recursive Feature Elimination\n",
    "\n",
    "# Performance Metrics for Model Evaluation\n",
    "from sklearn.metrics import accuracy_score, f1_score, mean_squared_error, mean_absolute_error, r2_score \n",
    "from sklearn.metrics import confusion_matrix, ConfusionMatrixDisplay\n",
    "\n",
    "# Libraries specific for Classification\n",
    "from sklearn.ensemble import RandomForestClassifier\n",
    "from sklearn.tree import DecisionTreeClassifier\n",
    "from sklearn.ensemble import GradientBoostingClassifier\n",
    "from sklearn.neighbors import KNeighborsClassifier\n",
    "\n",
    "\n",
    "# Libraries specific for Regression\n",
    "from sklearn.linear_model import LinearRegression\n",
    "from sklearn.svm import SVR\n",
    "from sklearn.ensemble import RandomForestRegressor\n",
    "from sklearn.preprocessing import PowerTransformer\n",
    "\n",
    "# Libraries specific for NLP\n",
    "import re\n",
    "import nltk\n",
    "nltk.download('stopwords')\n",
    "from nltk.corpus import stopwords\n",
    "from nltk.stem.porter import PorterStemmer\n",
    "from sklearn.feature_extraction.text import CountVectorizer,TfidfVectorizer\n",
    "from sklearn.metrics import silhouette_score \n",
    "from sklearn.cluster import AgglomerativeClustering\n",
    "from scipy.cluster.hierarchy import dendrogram, linkage\n",
    "\n",
    "from sklearn.cluster import KMeans # Clustering\n",
    "from sklearn.decomposition import LatentDirichletAllocation  # LDA\n",
    "from sklearn.preprocessing import MaxAbsScaler \n",
    "\n",
    "\n",
    "import warnings\n",
    "warnings.filterwarnings(\"ignore\") "
   ]
  },
  {
   "cell_type": "markdown",
   "id": "5b7b7b5d",
   "metadata": {},
   "source": [
    "### EDA - NLP"
   ]
  },
  {
   "cell_type": "markdown",
   "id": "2ec3ef2e",
   "metadata": {},
   "source": [
    "#### 1. Importing the dataset"
   ]
  },
  {
   "cell_type": "code",
   "execution_count": 55,
   "id": "6de34981",
   "metadata": {
    "scrolled": false
   },
   "outputs": [
    {
     "data": {
      "text/html": [
       "<div>\n",
       "<style scoped>\n",
       "    .dataframe tbody tr th:only-of-type {\n",
       "        vertical-align: middle;\n",
       "    }\n",
       "\n",
       "    .dataframe tbody tr th {\n",
       "        vertical-align: top;\n",
       "    }\n",
       "\n",
       "    .dataframe thead th {\n",
       "        text-align: right;\n",
       "    }\n",
       "</style>\n",
       "<table border=\"1\" class=\"dataframe\">\n",
       "  <thead>\n",
       "    <tr style=\"text-align: right;\">\n",
       "      <th></th>\n",
       "      <th>story</th>\n",
       "    </tr>\n",
       "  </thead>\n",
       "  <tbody>\n",
       "    <tr>\n",
       "      <th>0</th>\n",
       "      <td>Quarterly profits at US media giant TimeWarner...</td>\n",
       "    </tr>\n",
       "    <tr>\n",
       "      <th>1</th>\n",
       "      <td>The dollar has hit its highest level against t...</td>\n",
       "    </tr>\n",
       "    <tr>\n",
       "      <th>2</th>\n",
       "      <td>The owners of embattled Russian oil giant Yuko...</td>\n",
       "    </tr>\n",
       "    <tr>\n",
       "      <th>3</th>\n",
       "      <td>British Airways has blamed high fuel prices fo...</td>\n",
       "    </tr>\n",
       "    <tr>\n",
       "      <th>4</th>\n",
       "      <td>Shares in UK drinks and food firm Allied Domec...</td>\n",
       "    </tr>\n",
       "  </tbody>\n",
       "</table>\n",
       "</div>"
      ],
      "text/plain": [
       "                                               story\n",
       "0  Quarterly profits at US media giant TimeWarner...\n",
       "1  The dollar has hit its highest level against t...\n",
       "2  The owners of embattled Russian oil giant Yuko...\n",
       "3  British Airways has blamed high fuel prices fo...\n",
       "4  Shares in UK drinks and food firm Allied Domec..."
      ]
     },
     "execution_count": 55,
     "metadata": {},
     "output_type": "execute_result"
    }
   ],
   "source": [
    "news_data = pd.read_csv('news.csv', sep='\\t')\n",
    "news_data.head()"
   ]
  },
  {
   "cell_type": "markdown",
   "id": "2ee21bee",
   "metadata": {},
   "source": [
    "#### 2. Checking for any null values"
   ]
  },
  {
   "cell_type": "code",
   "execution_count": 56,
   "id": "a620fd18",
   "metadata": {},
   "outputs": [
    {
     "data": {
      "text/plain": [
       "story    0\n",
       "dtype: int64"
      ]
     },
     "execution_count": 56,
     "metadata": {},
     "output_type": "execute_result"
    }
   ],
   "source": [
    "news_data.isnull().sum()"
   ]
  },
  {
   "cell_type": "markdown",
   "id": "b3e2550a",
   "metadata": {},
   "source": [
    "#### 3. Preprocessing the data"
   ]
  },
  {
   "cell_type": "code",
   "execution_count": 57,
   "id": "21a420ac",
   "metadata": {},
   "outputs": [
    {
     "data": {
      "text/plain": [
       "2225"
      ]
     },
     "execution_count": 57,
     "metadata": {},
     "output_type": "execute_result"
    }
   ],
   "source": [
    "len(news_data['story']) # No. of articles"
   ]
  },
  {
   "cell_type": "code",
   "execution_count": 58,
   "id": "0b317fe9",
   "metadata": {},
   "outputs": [],
   "source": [
    "cleaned_data = []\n",
    "\n",
    "for i in range(0, len(news_data['story'])):\n",
    "    article = re.sub('[^a-zA-Z]',' ',news_data['story'][i])   # Replace everything except letters to space\n",
    "    article = article.lower()                                 # Convert all capital to lower case\n",
    "    article = article.split()                                 # Split the sentences into separate words\n",
    "    \n",
    "    #Stemming\n",
    "    port_stem = PorterStemmer()\n",
    "    article = [port_stem.stem(word) for word in article if not word in set(stopwords.words('english'))] # avoiding stopwords\n",
    "    article = ' '.join(article)\n",
    "    cleaned_data.append(article)"
   ]
  },
  {
   "cell_type": "code",
   "execution_count": 59,
   "id": "ebba5146",
   "metadata": {},
   "outputs": [
    {
     "data": {
      "text/plain": [
       "2225"
      ]
     },
     "execution_count": 59,
     "metadata": {},
     "output_type": "execute_result"
    }
   ],
   "source": [
    "len(cleaned_data) # Making sure no. of articles hasn't changed"
   ]
  },
  {
   "cell_type": "markdown",
   "id": "25d7d74b",
   "metadata": {},
   "source": [
    "#### 4. Creating Vector of words "
   ]
  },
  {
   "cell_type": "markdown",
   "id": "4cb595b7",
   "metadata": {},
   "source": [
    "Words have to be converted to vectors in order to be fed to the NLP model."
   ]
  },
  {
   "cell_type": "code",
   "execution_count": 60,
   "id": "48a96552",
   "metadata": {},
   "outputs": [],
   "source": [
    "# Using CountVectorizer - For KMeans and LDA\n",
    "vectorizer = CountVectorizer(max_features=20000, stop_words='english')  \n",
    "count_vector_articles = vectorizer.fit_transform(cleaned_data)"
   ]
  },
  {
   "cell_type": "code",
   "execution_count": 61,
   "id": "ff3fa4e7",
   "metadata": {},
   "outputs": [],
   "source": [
    "# Using TF-IDF - For Agglomerative Clustering\n",
    "tfidf_vectorizer = TfidfVectorizer(max_features=5000, stop_words='english') \n",
    "tf_idf_articles = tfidf_vectorizer.fit_transform(cleaned_data)"
   ]
  },
  {
   "cell_type": "markdown",
   "id": "d9c5750a",
   "metadata": {},
   "source": [
    "### PIPELINE 1 - Kmeans (With and Without Scaling) and LDA"
   ]
  },
  {
   "cell_type": "code",
   "execution_count": 62,
   "id": "4bedbf28",
   "metadata": {},
   "outputs": [
    {
     "name": "stdout",
     "output_type": "stream",
     "text": [
      "Clusters: 2, Silhouette Score: 0.1604\n",
      "Clusters: 3, Silhouette Score: 0.1283\n",
      "Clusters: 4, Silhouette Score: 0.0536\n",
      "Clusters: 5, Silhouette Score: 0.0724\n",
      "Clusters: 6, Silhouette Score: 0.0729\n",
      "Clusters: 7, Silhouette Score: 0.1189\n",
      "Clusters: 8, Silhouette Score: 0.0356\n",
      "Clusters: 9, Silhouette Score: 0.0405\n",
      "Clusters: 10, Silhouette Score: 0.0379\n",
      "Clusters: 11, Silhouette Score: 0.0674\n",
      "Clusters: 12, Silhouette Score: 0.0701\n",
      "Clusters: 13, Silhouette Score: 0.0106\n",
      "Clusters: 14, Silhouette Score: 0.0113\n",
      "Clusters: 15, Silhouette Score: 0.0120\n",
      "Clusters: 16, Silhouette Score: 0.0091\n",
      "Clusters: 17, Silhouette Score: 0.0126\n",
      "Clusters: 18, Silhouette Score: 0.0125\n",
      "Clusters: 19, Silhouette Score: 0.0133\n",
      "Clusters: 20, Silhouette Score: 0.0137\n",
      "Clusters: 21, Silhouette Score: 0.0112\n",
      "Clusters: 22, Silhouette Score: 0.0104\n",
      "Clusters: 23, Silhouette Score: 0.0141\n",
      "Clusters: 24, Silhouette Score: 0.0106\n",
      "Clusters: 25, Silhouette Score: 0.0107\n",
      "Clusters: 26, Silhouette Score: 0.0124\n",
      "Clusters: 27, Silhouette Score: 0.0110\n",
      "Clusters: 28, Silhouette Score: -0.0005\n",
      "Clusters: 29, Silhouette Score: -0.0070\n",
      "Clusters: 30, Silhouette Score: -0.0058\n",
      "Clusters: 31, Silhouette Score: 0.0018\n",
      "Clusters: 32, Silhouette Score: 0.0027\n",
      "Clusters: 33, Silhouette Score: -0.0026\n",
      "Clusters: 34, Silhouette Score: -0.0008\n",
      "Clusters: 35, Silhouette Score: -0.0023\n",
      "Clusters: 36, Silhouette Score: 0.0060\n",
      "Clusters: 37, Silhouette Score: 0.0017\n",
      "Clusters: 38, Silhouette Score: 0.0030\n",
      "Clusters: 39, Silhouette Score: 0.0090\n"
     ]
    },
    {
     "data": {
      "image/png": "[encoded data removed]",
      "text/plain": [
       "<Figure size 640x480 with 1 Axes>"
      ]
     },
     "metadata": {},
     "output_type": "display_data"
    }
   ],
   "source": [
    "cluster_range = range(2, 40)  \n",
    "silhouette_scores = []\n",
    "\n",
    "for k in cluster_range:\n",
    "    kmeans = KMeans(n_clusters=k, random_state=26)\n",
    "    kmeans.fit(count_vector_articles)\n",
    "    score = silhouette_score(count_vector_articles, kmeans.labels_)\n",
    "    silhouette_scores.append(score)\n",
    "    print(f\"Clusters: {k}, Silhouette Score: {score:.4f}\")\n",
    "\n",
    "# Plot silhouette scores\n",
    "plt.plot(cluster_range, silhouette_scores, marker='o')\n",
    "plt.title(\"Silhouette Score vs Number of Clusters\")\n",
    "plt.xlabel(\"Number of Clusters (k)\")\n",
    "plt.ylabel(\"Silhouette Score\")\n",
    "plt.show()\n"
   ]
  },
  {
   "cell_type": "markdown",
   "id": "9c6b1211",
   "metadata": {},
   "source": [
    "#### Observation"
   ]
  },
  {
   "cell_type": "markdown",
   "id": "24f3324e",
   "metadata": {},
   "source": [
    "- Silhouette score obtained is not ideal \n",
    "- A good silhouette score should be close to +1 for the clusters to be well defined\n",
    "- Silhouette score for 7 seems like the okay option from this graph, since taking 2 or 3 clusters would be too less."
   ]
  },
  {
   "cell_type": "markdown",
   "id": "e3780b6d",
   "metadata": {},
   "source": [
    "##### Scaling the vector"
   ]
  },
  {
   "cell_type": "code",
   "execution_count": 63,
   "id": "9628009c",
   "metadata": {},
   "outputs": [],
   "source": [
    "max_abs_scaler = MaxAbsScaler()\n",
    "count_vector_articles_scaled = max_abs_scaler.fit_transform(count_vector_articles)"
   ]
  },
  {
   "cell_type": "code",
   "execution_count": 64,
   "id": "de4e27c3",
   "metadata": {
    "scrolled": true
   },
   "outputs": [
    {
     "name": "stdout",
     "output_type": "stream",
     "text": [
      "Clusters: 2, Silhouette Score: 0.0503\n",
      "Clusters: 3, Silhouette Score: 0.0513\n",
      "Clusters: 4, Silhouette Score: -0.0133\n",
      "Clusters: 5, Silhouette Score: -0.0131\n",
      "Clusters: 6, Silhouette Score: -0.0130\n",
      "Clusters: 7, Silhouette Score: -0.0129\n",
      "Clusters: 8, Silhouette Score: -0.0126\n",
      "Clusters: 9, Silhouette Score: -0.0056\n",
      "Clusters: 10, Silhouette Score: -0.0339\n",
      "Clusters: 11, Silhouette Score: -0.0339\n",
      "Clusters: 12, Silhouette Score: -0.0331\n",
      "Clusters: 13, Silhouette Score: -0.0321\n",
      "Clusters: 14, Silhouette Score: -0.0319\n",
      "Clusters: 15, Silhouette Score: -0.0318\n",
      "Clusters: 16, Silhouette Score: -0.0316\n",
      "Clusters: 17, Silhouette Score: -0.0304\n",
      "Clusters: 18, Silhouette Score: -0.0293\n",
      "Clusters: 19, Silhouette Score: -0.0293\n",
      "Clusters: 20, Silhouette Score: -0.0281\n",
      "Clusters: 21, Silhouette Score: -0.1196\n",
      "Clusters: 22, Silhouette Score: -0.1195\n",
      "Clusters: 23, Silhouette Score: -0.1184\n",
      "Clusters: 24, Silhouette Score: -0.1182\n",
      "Clusters: 25, Silhouette Score: -0.1180\n",
      "Clusters: 26, Silhouette Score: -0.1179\n",
      "Clusters: 27, Silhouette Score: -0.1178\n",
      "Clusters: 28, Silhouette Score: -0.1176\n",
      "Clusters: 29, Silhouette Score: -0.1173\n",
      "Clusters: 30, Silhouette Score: -0.1163\n",
      "Clusters: 31, Silhouette Score: -0.1153\n",
      "Clusters: 32, Silhouette Score: -0.1151\n",
      "Clusters: 33, Silhouette Score: -0.1141\n",
      "Clusters: 34, Silhouette Score: -0.1138\n",
      "Clusters: 35, Silhouette Score: -0.1137\n",
      "Clusters: 36, Silhouette Score: -0.1126\n",
      "Clusters: 37, Silhouette Score: -0.1124\n",
      "Clusters: 38, Silhouette Score: -0.1113\n",
      "Clusters: 39, Silhouette Score: -0.1111\n"
     ]
    },
    {
     "data": {
      "image/png": "[encoded data removed]",
      "text/plain": [
       "<Figure size 640x480 with 1 Axes>"
      ]
     },
     "metadata": {},
     "output_type": "display_data"
    }
   ],
   "source": [
    "cluster_range = range(2, 40)  \n",
    "silhouette_scores = []\n",
    "\n",
    "for k in cluster_range:\n",
    "    kmeans = KMeans(n_clusters=k, random_state=26)\n",
    "    kmeans.fit(count_vector_articles_scaled)\n",
    "    score = silhouette_score(count_vector_articles_scaled, kmeans.labels_)\n",
    "    silhouette_scores.append(score)\n",
    "    print(f\"Clusters: {k}, Silhouette Score: {score:.4f}\")\n",
    "\n",
    "# Plot silhouette scores\n",
    "plt.plot(cluster_range, silhouette_scores, marker='o')\n",
    "plt.title(\"Silhouette Score vs Number of Clusters\")\n",
    "plt.xlabel(\"Number of Clusters (k)\")\n",
    "plt.ylabel(\"Silhouette Score\")\n",
    "plt.show()\n"
   ]
  },
  {
   "cell_type": "markdown",
   "id": "79b44217",
   "metadata": {},
   "source": [
    "- Scaling the data has made the silhouette score worse. With both scaled and unscaled data, KMeans does not seem like a good algorithm based on the silhouette score."
   ]
  },
  {
   "cell_type": "markdown",
   "id": "bcc447ae",
   "metadata": {},
   "source": [
    "#### LDA"
   ]
  },
  {
   "cell_type": "markdown",
   "id": "a4a19dd7",
   "metadata": {},
   "source": [
    "- LDA is a topic modeling algorithm which can identify topics from a collection of documents.   \n",
    "- It can be used for our use case of unsupervised machine learning because we do not have a target variable like in classification."
   ]
  },
  {
   "cell_type": "code",
   "execution_count": 65,
   "id": "a3164c28",
   "metadata": {},
   "outputs": [
    {
     "name": "stdout",
     "output_type": "stream",
     "text": [
      "Fitting 3 folds for each of 4 candidates, totalling 12 fits\n",
      "Best Hyperparameters: {'n_components': 6, 'max_iter': 10}\n",
      "Topic 0:\n",
      "half, second, open, team, club, final, match, time, england, player, year, win, game, play, said\n",
      "Topic 1:\n",
      "rise, month, expect, economi, share, rate, bank, compani, growth, sale, price, market, bn, year, said\n",
      "Topic 2:\n",
      "uk, make, tv, new, award, film, technolog, phone, mobil, best, use, year, peopl, music, said\n",
      "Topic 3:\n",
      "year, tax, tori, new, blair, plan, minist, peopl, parti, labour, elect, say, govern, mr, said\n",
      "Topic 4:\n",
      "like, day, olymp, releas, record, titl, new, play, star, time, world, year, said, film, game\n",
      "Topic 5:\n",
      "inform, new, mani, mail, file, secur, user, softwar, site, peopl, mr, use, firm, compani, said\n"
     ]
    }
   ],
   "source": [
    "# Hyperparameters for LDA\n",
    "param_dist = {\n",
    "    'n_components': [5,6,7,8,9,10],  # Number of clusters to evaluate\n",
    "    'max_iter': [5,10],  # Number of iterations\n",
    "}\n",
    "\n",
    "# Creating the LDA model\n",
    "lda = LatentDirichletAllocation(random_state=26)\n",
    "\n",
    "# Performing RandomizedSearchCV to find the best hyperparameters\n",
    "randomized_search = RandomizedSearchCV(lda, param_distributions=param_dist, \n",
    "                                       n_iter=4, cv=3, n_jobs=-1, random_state=26, verbose=1)\n",
    "\n",
    "# Fitting the data to randomized search (used instead of Grid search to reduce computation)\n",
    "randomized_search.fit(count_vector_articles)\n",
    "\n",
    "# Getting the best model after Randomized Search\n",
    "best_lda = randomized_search.best_estimator_\n",
    "\n",
    "# Best Hyperparameters\n",
    "print(f\"Best Hyperparameters: {randomized_search.best_params_}\")\n",
    "\n",
    "# Extracting the top words for each topic  \n",
    "terms = vectorizer.get_feature_names_out()\n",
    "for topic_idx, topic in enumerate(best_lda.components_):        \n",
    "    print(f\"Topic {topic_idx}:\")                                # Topic Number\n",
    "    print(\", \".join([terms[i] for i in topic.argsort()[-15:]])) # Most important words for the topic\n",
    "\n",
    "# Getting topic distribution for each article\n",
    "topic_distributions = best_lda.transform(count_vector_articles)\n"
   ]
  },
  {
   "cell_type": "markdown",
   "id": "b18670e4",
   "metadata": {},
   "source": [
    "#### Observation"
   ]
  },
  {
   "cell_type": "markdown",
   "id": "7c8fb44e",
   "metadata": {},
   "source": [
    "- Based off the silhouette score from K-Means, we had chosen numbers around and including 7 for n_components\n",
    "- The LDA model using hyperparameter tuning has determined that having 6 categories has given the best result \n",
    "- Based on the top words for each topic, we can assume the following categories for the news_articles:  \n",
    " \n",
    "    - Topic 0 - Sports  \n",
    "    - Topic 1 - Economy  \n",
    "    - Topic 2 - Entertainment  \n",
    "    - Topic 3 - Government\n",
    "    - Topic 4 - Awards  \n",
    "    - Topic 5 - Information Technology  "
   ]
  },
  {
   "cell_type": "markdown",
   "id": "79f2dae4",
   "metadata": {},
   "source": [
    "### PIPELINE 2 - Agglomerative Clustering"
   ]
  },
  {
   "cell_type": "markdown",
   "id": "3cdb287c",
   "metadata": {},
   "source": [
    "- Agglomerative Clustering is one of the unsupervised machine learning algorithms used for Clustering which uses distance metrics like KMeans.  \n",
    "- It is a hierarchial clustering technique which merges smaller clusters continously till we get the final cluster.  \n",
    "- It is up to us to cut the tree where the clusters are well defined.  "
   ]
  },
  {
   "cell_type": "code",
   "execution_count": 67,
   "id": "2ce360e2",
   "metadata": {
    "scrolled": false
   },
   "outputs": [
    {
     "name": "stdout",
     "output_type": "stream",
     "text": [
      "Best Silhouette Score: 0.014997026309047512\n",
      "Best Parameters: {'n_clusters': 8, 'linkage_method': 'ward', 'metric': 'euclidean'}\n"
     ]
    },
    {
     "data": {
      "image/png": "[encoded data removed]",
      "text/plain": [
       "<Figure size 1000x700 with 1 Axes>"
      ]
     },
     "metadata": {},
     "output_type": "display_data"
    },
    {
     "name": "stdout",
     "output_type": "stream",
     "text": [
      "\n",
      "Cluster 0:\n",
      "112    european commiss written mobil phone oper voda...\n",
      "210    consum electron giant hitachi matshushita elec...\n",
      "233    vodafon draft uk chief execut william morrow t...\n",
      "242    mission brighten work live continu time take l...\n",
      "251    bt move pre empt possibl break busi offer cut ...\n",
      "Name: news_article, dtype: object\n",
      "\n",
      "Cluster 1:\n",
      "0    quarterli profit us media giant timewarn jump ...\n",
      "2    owner embattl russian oil giant yuko ask buyer...\n",
      "3    british airway blame high fuel price drop prof...\n",
      "4    share uk drink food firm alli domecq risen spe...\n",
      "7    india attend g meet seven lead industrialis na...\n",
      "Name: news_article, dtype: object\n",
      "\n",
      "Cluster 2:\n",
      "105    chancellor gordon brown meet golden econom rul...\n",
      "153    chancellor gordon brown given bn boost attempt...\n",
      "194    uk govern rais tax rein spend want avoid break...\n",
      "486    busi polit leader around globe arriv swiss mou...\n",
      "503    climat chang fight aid lead list concern first...\n",
      "Name: news_article, dtype: object\n",
      "\n",
      "Cluster 3:\n",
      "192    german footbal club former european champion b...\n",
      "218    share struggl german footbal club borussia dor...\n",
      "270    arsen vice chairman david dein said club may c...\n",
      "299    pharmaceut giant johnson johnson agre buy medi...\n",
      "366    bob murray chairman sunderland fc launch bid c...\n",
      "Name: news_article, dtype: object\n",
      "\n",
      "Cluster 4:\n",
      "1313    british hurdler sarah claxton confid win first...\n",
      "1315    mauric green aim wipe pain lose olymp titl ath...\n",
      "1316    iaaf athlet world govern bodi met anti dope of...\n",
      "1317    ethiopia tirunesh dibaba set new world record ...\n",
      "1318    pole vaulter yelena isinbayeva broke indoor wo...\n",
      "Name: news_article, dtype: object\n",
      "\n",
      "Cluster 5:\n",
      "1     dollar hit highest level euro almost three mon...\n",
      "5     japan economi teeter brink technic recess thre...\n",
      "6     us creat fewer job expect januari fall jobseek...\n",
      "21    number peopl work europ largest economi risen ...\n",
      "22    french economi pick speed end offici figur sho...\n",
      "Name: news_article, dtype: object\n",
      "\n",
      "Cluster 6:\n",
      "134    row whether greec allow label chees feta reach...\n",
      "204    row colour orang could hit court mobil phone g...\n",
      "206    share music giant emi sunk firm issu profit wa...\n",
      "212    us feder reserv chairman alan greenspan given ...\n",
      "225    mcdonald world largest restaur chain sponsor p...\n",
      "Name: news_article, dtype: object\n",
      "\n",
      "Cluster 7:\n",
      "330    walt disney settl charg us feder regul fail di...\n",
      "474    french stock market regul amf file complaint m...\n",
      "518    plot intern bestsel thousand reader like recei...\n",
      "528    actor christian slater step role tom broadway ...\n",
      "534    harri potter half blood princ top amazon book ...\n",
      "Name: news_article, dtype: object\n"
     ]
    }
   ],
   "source": [
    "# Hyperparameters for Agglomerative clustering\n",
    "hyper_parameters = {\n",
    "    'n_clusters': [4, 5, 6, 7, 8],                                # Number of clusters to evaluate\n",
    "    'linkage_method': ['ward', 'complete', 'average', 'single'],  # Linkage criteria\n",
    "    'metric': ['euclidean', 'manhattan', 'cosine']                # Distance metrics\n",
    "}\n",
    "\n",
    "# Creating a function for Agglomerative Clustering\n",
    "def agglomerative_clustering(X, n_clusters, linkage_method, metric):\n",
    "    clustering = AgglomerativeClustering(\n",
    "        n_clusters=n_clusters, linkage=linkage_method, metric=metric\n",
    "    )\n",
    "    labels = clustering.fit_predict(X)\n",
    "    score = silhouette_score(X, labels)\n",
    "    return score, labels\n",
    "\n",
    "# Grid Search for best parameters \n",
    "best_score = -1\n",
    "best_parameters = None\n",
    "best_labels = None\n",
    "\n",
    "for n_clusters in hyper_parameters['n_clusters']:\n",
    "    for linkage_method in hyper_parameters['linkage_method']:\n",
    "        for metric in hyper_parameters['metric']:\n",
    "            # Ward linkage needs euclidean distance\n",
    "            if linkage_method == 'ward' and metric != 'euclidean':\n",
    "                continue\n",
    "            try:\n",
    "                score, labels = agglomerative_clustering(\n",
    "                    tf_idf_articles.toarray(), n_clusters, linkage_method, metric\n",
    "                )\n",
    "                if score > best_score:\n",
    "                    best_score = score\n",
    "                    best_parameters = {\n",
    "                        'n_clusters': n_clusters,\n",
    "                        'linkage_method': linkage_method,\n",
    "                        'metric': metric\n",
    "                    }\n",
    "                    best_labels = labels\n",
    "            except Exception as e:\n",
    "                print(f\"Error for {n_clusters}, {linkage_method}, {metric}: {e}\")\n",
    "\n",
    "print(f\"Best Silhouette Score: {best_score}\")\n",
    "print(f\"Best Parameters: {best_parameters}\")\n",
    "\n",
    "# Drawing the dendogram for the clustering\n",
    "plt.figure(figsize=(10, 7))\n",
    "diagram = linkage(tf_idf_articles.toarray(), method=best_parameters['linkage_method'], metric=best_parameters['metric'])\n",
    "dendrogram(diagram, truncate_mode='lastp', p=30)\n",
    "plt.title(\"News Articles Cluster\")\n",
    "plt.xlabel(\"Cluster Size\")\n",
    "plt.ylabel(\"Distance\")\n",
    "plt.show()\n",
    "\n",
    "\n",
    "final_news_labels = pd.DataFrame({'news_article': cleaned_data})  # Assigning cluster label to each news article\n",
    "final_news_labels['cluster'] = best_labels\n",
    "\n",
    "\n",
    "for cluster_id in range(best_parameters['n_clusters']): # For each cluster\n",
    "    print(f\"\\nCluster {cluster_id}:\")\n",
    "    print(final_news_labels[final_news_labels['cluster'] == cluster_id]['news_article'].head())  # printing the top 5 articles"
   ]
  },
  {
   "cell_type": "markdown",
   "id": "292b4c05",
   "metadata": {},
   "source": [
    "##### Observation"
   ]
  },
  {
   "cell_type": "markdown",
   "id": "31365f9a",
   "metadata": {},
   "source": [
    "- Based on the news articles of each cluster, we can label them as follows:  \n",
    "    - **Cluster 0: Electronics and Communication**       (because of keywords like vodafone and mobile operators)\n",
    "    - **Cluster 1: World Economy**      (because of US, Russia, UK, India and economy related words like profit, price, industrialists )\n",
    "    - **Cluster 2: World Politics and Business**     ( Chancellor Gordon Brown, Business politics leaders around globe, climate change fight aid)\n",
    "    - **Cluster 3: Footbal(Soccer)**     (football club, arsenal, borussia dortmund, sunderland fc)\n",
    "    - **Cluster 4: Sports**      (hurdler, athlete, pole vaulter, olympic title)\n",
    "    - **Cluster 5: World Finance**     (Japan economy, dollar, europe largest economy, french economy...)\n",
    "    - **Cluster 6: Consumer**     (cheese, mcdonald, music giant, mobile phone)\n",
    "    - **Cluster 7: Entertainment**     (actor, harry potter, walt disney, internet bestseller)\n",
    "\n",
    "\n",
    "- Silhouette score is still low   \n",
    "- Clusters are not as well defined since some articles feel like they could be grouped together in the same cluster.   \n",
    "- There also seems to be misclassification like in Cluster 3, it feels like all the articles are about football clubs and there is an odd entry about Johnson and Johnson which has nothing to do with football.\n",
    "\n"
   ]
  },
  {
   "cell_type": "markdown",
   "id": "0a38753d",
   "metadata": {},
   "source": [
    "### RESULT - NLP"
   ]
  },
  {
   "cell_type": "markdown",
   "id": "d45b2953",
   "metadata": {},
   "source": [
    "- Comparing the clusters of both LDA and Agglomerative Clustering:  \n",
    "    - The clusters of LDA are more defined and do not have overlaps of news articles\n",
    "    - The clusters of Agglomerative Clustering have more overlap of news articles and there were clusters which could be grouped together like World finance and World Economy.\n",
    "    \n",
    "- The silhouette scores of KMeans and Agglomerative clustering are very low  \n",
    "- Based on the clusters produced, **LDA is the best option**.  \n",
    "- Results maybe can be improved further by different pre-processing techniques or using complex models like CNN( Convolutional Neural Networks)."
   ]
  },
  {
   "cell_type": "code",
   "execution_count": null,
   "id": "8b6c8209",
   "metadata": {},
   "outputs": [],
   "source": []
  }
 ],
 "metadata": {
  "kernelspec": {
   "display_name": "Python 3 (ipykernel)",
   "language": "python",
   "name": "python3"
  },
  "language_info": {
   "codemirror_mode": {
    "name": "ipython",
    "version": 3
   },
   "file_extension": ".py",
   "mimetype": "text/x-python",
   "name": "python",
   "nbconvert_exporter": "python",
   "pygments_lexer": "ipython3",
   "version": "3.10.9"
  }
 },
 "nbformat": 4,
 "nbformat_minor": 5
}
